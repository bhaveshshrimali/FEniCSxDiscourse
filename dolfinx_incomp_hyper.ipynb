{
 "cells": [
  {
   "cell_type": "code",
   "execution_count": null,
   "id": "aef1652a",
   "metadata": {},
   "outputs": [],
   "source": [
    "import numpy as np"
   ]
  },
  {
   "cell_type": "code",
   "execution_count": null,
   "id": "39a6a234",
   "metadata": {},
   "outputs": [],
   "source": [
    "from dolfinx.mesh import compute_boundary_facets, create_unit_cube, locate_entities_boundary\n",
    "from dolfinx.io import XDMFFile\n",
    "import dolfinx.fem as fem\n",
    "from ufl import grad, dot, inner, Identity, TestFunction, TrialFunction, tr, ln, det, jump, Measure, FacetArea, avg, as_vector\n",
    "from mpi4py import MPI\n",
    "from petsc4py.PETSc import ScalarType as st"
   ]
  },
  {
   "cell_type": "code",
   "execution_count": null,
   "id": "fe792e43",
   "metadata": {},
   "outputs": [],
   "source": [
    "from ufl import derivative, diff, variable"
   ]
  },
  {
   "cell_type": "code",
   "execution_count": null,
   "id": "486ea50e",
   "metadata": {},
   "outputs": [],
   "source": [
    "from dolfinx.nls import NewtonSolver"
   ]
  },
  {
   "cell_type": "code",
   "execution_count": null,
   "id": "364fc164",
   "metadata": {},
   "outputs": [],
   "source": [
    "comm = MPI.COMM_WORLD\n",
    "mesh = create_unit_cube(comm, 5, 5, 5)\n",
    "V = fem.VectorFunctionSpace(mesh, (\"CR\", 1))\n",
    "Vp = fem.VectorFunctionSpace(mesh, (\"CG\", 1))\n",
    "u = fem.Function(V)\n",
    "du, v = TrialFunction(V), TestFunction(V)"
   ]
  },
  {
   "cell_type": "code",
   "execution_count": null,
   "id": "bd1f5f62",
   "metadata": {},
   "outputs": [],
   "source": [
    "F = Identity(len(u)) + grad(u)\n",
    "I = inner(F, F)\n",
    "J = det(F)"
   ]
  },
  {
   "cell_type": "code",
   "execution_count": null,
   "id": "be76a412",
   "metadata": {},
   "outputs": [],
   "source": [
    "mu, lmbda = fem.Constant(mesh, st(1.0)), fem.Constant(mesh, st(1.e3))"
   ]
  },
  {
   "cell_type": "code",
   "execution_count": null,
   "id": "4e3a08d7",
   "metadata": {},
   "outputs": [],
   "source": [
    "psi = mu/2. * (I - 3) - mu * ln(J) + lmbda/2 * (J - 1)**2"
   ]
  },
  {
   "cell_type": "code",
   "execution_count": null,
   "id": "d28ccbb3",
   "metadata": {},
   "outputs": [],
   "source": [
    "md = {\"quadrature_degree\":5}\n",
    "dx = Measure(\"dx\", metadata=md)\n",
    "dS = Measure(\"dS\", metadata=md)"
   ]
  },
  {
   "cell_type": "code",
   "execution_count": null,
   "id": "255578bd",
   "metadata": {},
   "outputs": [],
   "source": [
    "q = mu*3.0\n",
    "h_avg = avg(FacetArea(mesh))"
   ]
  },
  {
   "cell_type": "code",
   "execution_count": null,
   "id": "b5e8e1a1",
   "metadata": {},
   "outputs": [],
   "source": [
    "omega = fem.Constant(mesh, st(1e-6))"
   ]
  },
  {
   "cell_type": "code",
   "execution_count": null,
   "id": "54cec0b5",
   "metadata": {},
   "outputs": [],
   "source": [
    "dpsi_du = derivative(psi, u, v) * dx + q/h_avg * dot(jump(u), jump(v)) * dS"
   ]
  },
  {
   "cell_type": "code",
   "execution_count": null,
   "id": "d708edc7",
   "metadata": {},
   "outputs": [],
   "source": [
    "d2psi_du2 = derivative(dpsi_du, u, du)"
   ]
  },
  {
   "cell_type": "code",
   "execution_count": null,
   "id": "380de6b3",
   "metadata": {},
   "outputs": [],
   "source": [
    "stabilization = omega * inner(grad(du), grad(v)) * dx"
   ]
  },
  {
   "cell_type": "code",
   "execution_count": null,
   "id": "9888cece",
   "metadata": {},
   "outputs": [],
   "source": [
    "left = lambda x: np.isclose(x[0], 0)\n",
    "bottom = lambda x: np.isclose(x[1], 0)\n",
    "back = lambda x: np.isclose(x[2], 0)\n",
    "right = lambda x: np.isclose(x[1], 1.)\n",
    "left_facet = locate_entities_boundary(mesh, mesh.topology.dim-1, left)\n",
    "bottom_facet = locate_entities_boundary(mesh, mesh.topology.dim-1, bottom)\n",
    "right_facet = locate_entities_boundary(mesh, mesh.topology.dim-1, right)\n",
    "back_facet = locate_entities_boundary(mesh, mesh.topology.dim-1, back)"
   ]
  },
  {
   "cell_type": "code",
   "execution_count": null,
   "id": "fd0d0c8b",
   "metadata": {},
   "outputs": [],
   "source": [
    "fdim = mesh.topology.dim-1"
   ]
  },
  {
   "cell_type": "code",
   "execution_count": null,
   "id": "925fe133",
   "metadata": {},
   "outputs": [],
   "source": [
    "left_dofs_x = fem.locate_dofs_topological(V.sub(0), fdim, left_facet)"
   ]
  },
  {
   "cell_type": "code",
   "execution_count": null,
   "id": "af4a941c",
   "metadata": {},
   "outputs": [],
   "source": [
    "right_dofs_x = fem.locate_dofs_topological(V.sub(0), fdim, right_facet)"
   ]
  },
  {
   "cell_type": "code",
   "execution_count": null,
   "id": "5e874ba9",
   "metadata": {},
   "outputs": [],
   "source": [
    "bottom_dofs_y = fem.locate_dofs_topological(V.sub(1), fdim, bottom_facet)"
   ]
  },
  {
   "cell_type": "code",
   "execution_count": null,
   "id": "2b4e7071",
   "metadata": {},
   "outputs": [],
   "source": [
    "back_dofs_z = fem.locate_dofs_topological(V.sub(2), fdim, back_facet)"
   ]
  },
  {
   "cell_type": "code",
   "execution_count": null,
   "id": "7ec695f9",
   "metadata": {},
   "outputs": [],
   "source": [
    "bc_right_val = fem.Constant(mesh, st(0.001))\n",
    "bcx = fem.dirichletbc(st(0), left_dofs_x, V.sub(0))\n",
    "bcy = fem.dirichletbc(st(0), bottom_dofs_y, V.sub(1))\n",
    "bcz = fem.dirichletbc(st(0), back_dofs_z, V.sub(2))\n",
    "bcx_right = fem.dirichletbc(bc_right_val, right_dofs_x, V.sub(0))"
   ]
  },
  {
   "cell_type": "code",
   "execution_count": null,
   "id": "a4f1c277",
   "metadata": {},
   "outputs": [],
   "source": [
    "bc_right_val.value"
   ]
  },
  {
   "cell_type": "code",
   "execution_count": null,
   "id": "7a37a2d5",
   "metadata": {},
   "outputs": [],
   "source": [
    "bcs=[bcx, bcy, bcz, bcx_right]"
   ]
  },
  {
   "cell_type": "code",
   "execution_count": null,
   "id": "1364d890",
   "metadata": {},
   "outputs": [],
   "source": [
    "problem = fem.NonlinearProblem(dpsi_du, u, bcs=bcs, J=d2psi_du2+stabilization)"
   ]
  },
  {
   "cell_type": "code",
   "execution_count": null,
   "id": "c0793111",
   "metadata": {},
   "outputs": [],
   "source": [
    "solver = NewtonSolver(comm, problem)"
   ]
  },
  {
   "cell_type": "markdown",
   "id": "5b650e04",
   "metadata": {},
   "source": [
    "```\n",
    "Help on NewtonSolver in module dolfinx.nls object:\n",
    "\n",
    "class NewtonSolver(dolfinx.cpp.nls.NewtonSolver)\n",
    " |  NewtonSolver(comm: 'MPI.Intracomm', problem: 'NonlinearProblem')\n",
    " |  \n",
    " |  Method resolution order:\n",
    " |      NewtonSolver\n",
    " |      dolfinx.cpp.nls.NewtonSolver\n",
    " |      pybind11_builtins.pybind11_object\n",
    " |      builtins.object\n",
    " |  \n",
    " |  Methods defined here:\n",
    " |  \n",
    " |  __init__(self, comm: 'MPI.Intracomm', problem: 'NonlinearProblem')\n",
    " |      A Newton solver for non-linear problems.\n",
    " |  \n",
    " |  setP(self, P: 'types.FunctionType', Pmat: 'PETSc.Mat')\n",
    " |      Set the function for computing the preconditioner matrix\n",
    " |      \n",
    " |      Args:\n",
    " |          P: Function to compute the preconditioner matrix\n",
    " |          Pmat: Matrix to assemble the preconditioner into\n",
    " |  \n",
    " |  solve(self, u: 'fem.Function')\n",
    " |      Solve non-linear problem into function u. Returns the number\n",
    " |      of iterations and if the solver converged.\n",
    " |  \n",
    " |  ----------------------------------------------------------------------\n",
    " |  Readonly properties defined here:\n",
    " |  \n",
    " |  A\n",
    " |      Jacobian matrix\n",
    " |  \n",
    " |  b\n",
    " |      Residual vector\n",
    " |  \n",
    " |  ----------------------------------------------------------------------\n",
    " |  Data descriptors defined here:\n",
    " |  \n",
    " |  __dict__\n",
    " |      dictionary for instance variables (if defined)\n",
    " |  \n",
    " |  ----------------------------------------------------------------------\n",
    " |  Methods inherited from dolfinx.cpp.nls.NewtonSolver:\n",
    " |  \n",
    " |  setF(...)\n",
    " |      setF(self: dolfinx.cpp.nls.NewtonSolver, arg0: Callable[[vec, vec], None], arg1: vec) -> None\n",
    " |  \n",
    " |  setJ(...)\n",
    " |      setJ(self: dolfinx.cpp.nls.NewtonSolver, arg0: Callable[[vec, mat], None], arg1: mat) -> None\n",
    " |  \n",
    " |  set_form(...)\n",
    " |      set_form(self: dolfinx.cpp.nls.NewtonSolver, arg0: Callable[[vec], None]) -> None\n",
    " |  \n",
    " |  set_update(...)\n",
    " |      set_update(self: dolfinx.cpp.nls.NewtonSolver, arg0: Callable[[dolfinx.cpp.nls.NewtonSolver, vec, vec], None]) -> None\n",
    " |  \n",
    " |  ----------------------------------------------------------------------\n",
    " |  Readonly properties inherited from dolfinx.cpp.nls.NewtonSolver:\n",
    " |  \n",
    " |  krylov_solver\n",
    " |  \n",
    " |  ----------------------------------------------------------------------\n",
    " |  Data descriptors inherited from dolfinx.cpp.nls.NewtonSolver:\n",
    " |  \n",
    " |  atol\n",
    " |      Absolute tolerance\n",
    " |  \n",
    " |  convergence_criterion\n",
    " |      Convergence criterion, either 'residual' (default) or 'incremental'\n",
    " |  \n",
    " |  error_on_nonconvergence\n",
    " |  \n",
    " |  max_it\n",
    " |      Maximum number of iterations\n",
    " |  \n",
    " |  relaxation_parameter\n",
    " |      Relaxation parameter\n",
    " |  \n",
    " |  report\n",
    " |  \n",
    " |  rtol\n",
    " |      Relative tolerance\n",
    " |  \n",
    " |  ----------------------------------------------------------------------\n",
    " |  Static methods inherited from pybind11_builtins.pybind11_object:\n",
    " |  \n",
    " |  __new__(*args, **kwargs) from pybind11_builtins.pybind11_type\n",
    " |      Create and return a new object.  See help(type) for accurate signature.\n",
    "```"
   ]
  },
  {
   "cell_type": "code",
   "execution_count": null,
   "id": "2070abb7",
   "metadata": {},
   "outputs": [],
   "source": [
    "solver.atol=1.e-8\n",
    "solver.rtol=1.e-4\n",
    "solver.convergence_criterion='incremental'\n",
    "solver.max_it=500\n",
    "solver.report=True"
   ]
  },
  {
   "cell_type": "code",
   "execution_count": null,
   "id": "dfff0f58",
   "metadata": {},
   "outputs": [],
   "source": [
    "num_steps = 100\n",
    "loads = np.linspace(0, 1, num_steps)\n",
    "for load in loads:\n",
    "    bc_right_val.value=load\n",
    "    try:\n",
    "        num_its, converged = solver.solve(u)\n",
    "    except:\n",
    "        omega.value *= 10\n",
    "        print(f\"convergence failed, trying gradient flow, with omega = {omega.value[0]:.5e}\")\n",
    "    while not(converged):\n",
    "        try:\n",
    "            num_its, converged = solver.solve(u)\n",
    "            print(f\"omega={omega:.5e}\")\n",
    "        except:\n",
    "            omega.value *= 10.\n",
    "            print(f\"convergence failed, trying gradient flow, with omega = {omega.value[0]:.5e}\")\n",
    "    print(f\"load: {load}, num_iteration: {num_its}, convergence: {converged}\")"
   ]
  },
  {
   "cell_type": "code",
   "execution_count": null,
   "id": "5fdd774c",
   "metadata": {},
   "outputs": [],
   "source": [
    "help(solver)"
   ]
  },
  {
   "cell_type": "code",
   "execution_count": null,
   "id": "6f25b945",
   "metadata": {},
   "outputs": [],
   "source": []
  }
 ],
 "metadata": {
  "kernelspec": {
   "display_name": "Python 3 (ipykernel)",
   "language": "python",
   "name": "python3"
  },
  "language_info": {
   "codemirror_mode": {
    "name": "ipython",
    "version": 3
   },
   "file_extension": ".py",
   "mimetype": "text/x-python",
   "name": "python",
   "nbconvert_exporter": "python",
   "pygments_lexer": "ipython3",
   "version": "3.9.7"
  }
 },
 "nbformat": 4,
 "nbformat_minor": 5
}
